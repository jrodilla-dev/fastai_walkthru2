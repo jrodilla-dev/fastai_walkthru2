{
 "cells": [
  {
   "cell_type": "markdown",
   "id": "7799b2ab",
   "metadata": {},
   "source": [
    "## Walkthru sample notebook"
   ]
  },
  {
   "cell_type": "markdown",
   "id": "3f8c4f59",
   "metadata": {},
   "source": [
    "Here is how I calculate `1+1`"
   ]
  },
  {
   "cell_type": "code",
   "execution_count": 1,
   "id": "33434546",
   "metadata": {},
   "outputs": [
    {
     "data": {
      "text/plain": [
       "2"
      ]
     },
     "execution_count": 1,
     "metadata": {},
     "output_type": "execute_result"
    }
   ],
   "source": [
    "1+1"
   ]
  },
  {
   "cell_type": "code",
   "execution_count": 2,
   "id": "d94aab91",
   "metadata": {},
   "outputs": [],
   "source": [
    "from numpy import *"
   ]
  },
  {
   "cell_type": "markdown",
   "id": "973a26e4",
   "metadata": {},
   "source": [
    "Here is how I calculate `sin`"
   ]
  },
  {
   "cell_type": "code",
   "execution_count": 4,
   "id": "80adbbeb",
   "metadata": {},
   "outputs": [
    {
     "data": {
      "text/plain": [
       "array([0.84147098, 1.        ])"
      ]
     },
     "execution_count": 4,
     "metadata": {},
     "output_type": "execute_result"
    }
   ],
   "source": [
    "a = array([1.0, pi/2])\n",
    "sin(a)"
   ]
  },
  {
   "cell_type": "markdown",
   "id": "e878edf1-61e5-4755-a5b3-40593cd26a4d",
   "metadata": {
    "tags": []
   },
   "source": [
    "### coming soon... (from local)"
   ]
  },
  {
   "cell_type": "code",
   "execution_count": null,
   "id": "a833b30b-50a5-42d2-9c34-1fb7d893c20f",
   "metadata": {},
   "outputs": [],
   "source": []
  }
 ],
 "metadata": {
  "kernelspec": {
   "display_name": "Python 3 (ipykernel)",
   "language": "python",
   "name": "python3"
  },
  "language_info": {
   "codemirror_mode": {
    "name": "ipython",
    "version": 3
   },
   "file_extension": ".py",
   "mimetype": "text/x-python",
   "name": "python",
   "nbconvert_exporter": "python",
   "pygments_lexer": "ipython3",
   "version": "3.10.6"
  }
 },
 "nbformat": 4,
 "nbformat_minor": 5
}
